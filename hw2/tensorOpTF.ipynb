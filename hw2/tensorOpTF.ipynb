{
 "cells": [
  {
   "cell_type": "code",
   "execution_count": 1,
   "metadata": {},
   "outputs": [],
   "source": [
    "import tensorflow as tf"
   ]
  },
  {
   "cell_type": "code",
   "execution_count": 2,
   "metadata": {},
   "outputs": [
    {
     "name": "stdout",
     "output_type": "stream",
     "text": [
      "tf.Tensor(1, shape=(), dtype=int32)\n",
      "tf.Tensor([1. 2.], shape=(2,), dtype=float32)\n"
     ]
    }
   ],
   "source": [
    "tensor_1 = tf.constant(1)\n",
    "print(tensor_1)\n",
    "tensor_2 = tf.constant([1.0, 2.0])\n",
    "print(tensor_2)"
   ]
  },
  {
   "cell_type": "code",
   "execution_count": 3,
   "metadata": {},
   "outputs": [
    {
     "name": "stdout",
     "output_type": "stream",
     "text": [
      "tf.Tensor(\n",
      "[[ 6  8]\n",
      " [10 12]], shape=(2, 2), dtype=int32) \n",
      "\n",
      "tf.Tensor(\n",
      "[[ 5 12]\n",
      " [21 32]], shape=(2, 2), dtype=int32) \n",
      "\n"
     ]
    }
   ],
   "source": [
    "a = tf.constant([[1, 2],\n",
    "                 [3, 4]])\n",
    "b = tf.constant([[5, 6],\n",
    "                 [7, 8]])\n",
    "\n",
    "print(tf.add(a, b), \"\\n\")\n",
    "print(tf.multiply(a, b), \"\\n\")"
   ]
  },
  {
   "cell_type": "code",
   "execution_count": 4,
   "metadata": {},
   "outputs": [
    {
     "name": "stdout",
     "output_type": "stream",
     "text": [
      "tf.Tensor(\n",
      "[[220 280]\n",
      " [490 640]], shape=(2, 2), dtype=int32) \n",
      "\n",
      "tf.Tensor(\n",
      "[[ 90 120 150]\n",
      " [190 260 330]\n",
      " [290 400 510]], shape=(3, 3), dtype=int32) \n",
      "\n"
     ]
    }
   ],
   "source": [
    "a = tf.constant([[1, 2, 3],\n",
    "                 [4, 5, 6]])\n",
    "b = tf.constant([[10, 20],\n",
    "                 [30, 40],\n",
    "                 [50, 60]])\n",
    "\n",
    "print(a @ b, \"\\n\") # matrix multiplication\n",
    "\n",
    "\n",
    "b,a = a,b\n",
    "print(a @ b, \"\\n\") "
   ]
  },
  {
   "cell_type": "code",
   "execution_count": 5,
   "metadata": {},
   "outputs": [
    {
     "name": "stdout",
     "output_type": "stream",
     "text": [
      "(3, 3)\n",
      "tf.Tensor(\n",
      "[[ 90 120 150]\n",
      " [190 260 330]\n",
      " [290 400 510]], shape=(3, 3), dtype=int32)\n"
     ]
    }
   ],
   "source": [
    "e = tf.einsum('ij,jk->ik', a, b) # matrix multiplication\n",
    "print(e.shape)\n",
    "print(e)"
   ]
  },
  {
   "cell_type": "code",
   "execution_count": 6,
   "metadata": {},
   "outputs": [
    {
     "name": "stdout",
     "output_type": "stream",
     "text": [
      "tf.Tensor(\n",
      "[[ 90 190 290]\n",
      " [120 260 400]\n",
      " [150 330 510]], shape=(3, 3), dtype=int32)\n"
     ]
    }
   ],
   "source": [
    "c = tf.constant([[1, 2],\n",
    "                 [3, 4]])\n",
    "d = tf.constant([[5, 6],\n",
    "                 [7, 8]])\n",
    "\n",
    "e = tf.einsum('ij->ji', e) # transpose\n",
    "print(e)"
   ]
  },
  {
   "cell_type": "code",
   "execution_count": 7,
   "metadata": {},
   "outputs": [
    {
     "name": "stdout",
     "output_type": "stream",
     "text": [
      "tf.Tensor([ 90 260 510], shape=(3,), dtype=int32)\n"
     ]
    }
   ],
   "source": [
    "f = tf.einsum('ii->i', e) # diagonal\n",
    "print(f)"
   ]
  },
  {
   "cell_type": "code",
   "execution_count": 10,
   "metadata": {},
   "outputs": [
    {
     "name": "stdout",
     "output_type": "stream",
     "text": [
      "()\n",
      "tf.Tensor(860, shape=(), dtype=int32)\n",
      "tf.Tensor(860, shape=(), dtype=int32)\n"
     ]
    }
   ],
   "source": [
    "trace = tf.einsum('ii', e)  # output[j,i] = trace(m) = sum_i m[i, i]\n",
    "assert trace == sum(f)\n",
    "print(trace.shape)\n",
    "print(trace)\n",
    "print(sum(f))\n"
   ]
  }
 ],
 "metadata": {
  "interpreter": {
   "hash": "0e4631f8abf22b6e3bad75ef6fc74e8156bc6d7eda16a6da5468122f1c7f4a75"
  },
  "kernelspec": {
   "display_name": "Python 3.9.1 64-bit",
   "language": "python",
   "name": "python3"
  },
  "language_info": {
   "codemirror_mode": {
    "name": "ipython",
    "version": 3
   },
   "file_extension": ".py",
   "mimetype": "text/x-python",
   "name": "python",
   "nbconvert_exporter": "python",
   "pygments_lexer": "ipython3",
   "version": "3.9.1"
  },
  "orig_nbformat": 4
 },
 "nbformat": 4,
 "nbformat_minor": 2
}
